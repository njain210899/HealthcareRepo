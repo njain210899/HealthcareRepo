{
 "cells": [
  {
   "cell_type": "code",
   "execution_count": 0,
   "metadata": {
    "application/vnd.databricks.v1+cell": {
     "cellMetadata": {
      "byteLimit": 2048000,
      "rowLimit": 10000
     },
     "inputWidgets": {},
     "nuid": "e75a22df-3fc1-4713-8938-53874e733f42",
     "showTitle": false,
     "tableResultSettingsMap": {},
     "title": ""
    }
   },
   "outputs": [],
   "source": [
    "class config():\n",
    "    def __init__(self):\n",
    "        self.base_dir = '/Volumes/healthcare_proj_privatews/landing/azuresql'\n",
    "        self.bronze_volume = '/Volumes/healthcare_proj_privatews/bronze/raw-files/'\n",
    "    def create_config_df(self):\n",
    "        return (\n",
    "            spark.read.format('csv')\\\n",
    "        .option('header','true')\\\n",
    "        .option('inferschema','true')\\\n",
    "        .option('path',self.base_dir+'/load_config.csv')\\\n",
    "        .load()\n",
    "        )\n",
    "    def get_base_dir(self):\n",
    "        return self.base_dir\n",
    "    def get_bronze_volume_dir(self):\n",
    "        return self.bronze_volume"
   ]
  },
  {
   "cell_type": "code",
   "execution_count": 0,
   "metadata": {
    "application/vnd.databricks.v1+cell": {
     "cellMetadata": {},
     "inputWidgets": {},
     "nuid": "d8189314-e81c-44e3-af75-6cef5b09d002",
     "showTitle": false,
     "tableResultSettingsMap": {},
     "title": ""
    }
   },
   "outputs": [],
   "source": []
  }
 ],
 "metadata": {
  "application/vnd.databricks.v1+notebook": {
   "computePreferences": null,
   "dashboards": [],
   "environmentMetadata": {
    "base_environment": "",
    "environment_version": "2"
   },
   "language": "python",
   "notebookMetadata": {
    "pythonIndentUnit": 4
   },
   "notebookName": "01-config",
   "widgets": {}
  },
  "language_info": {
   "name": "python"
  }
 },
 "nbformat": 4,
 "nbformat_minor": 0
}
