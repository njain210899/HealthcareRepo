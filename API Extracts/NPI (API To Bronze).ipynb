{
 "cells": [
  {
   "cell_type": "code",
   "execution_count": 0,
   "metadata": {
    "application/vnd.databricks.v1+cell": {
     "cellMetadata": {
      "byteLimit": 2048000,
      "rowLimit": 10000
     },
     "inputWidgets": {},
     "nuid": "c125b13c-a8df-4d3a-95d7-6437f5a8abf9",
     "showTitle": false,
     "tableResultSettingsMap": {},
     "title": ""
    }
   },
   "outputs": [],
   "source": [
    "%run /Workspace/Users/njain210899@gmail.com/HealthcareRepo/landing-layer/01-config"
   ]
  },
  {
   "cell_type": "code",
   "execution_count": 0,
   "metadata": {
    "application/vnd.databricks.v1+cell": {
     "cellMetadata": {
      "byteLimit": 2048000,
      "rowLimit": 10000
     },
     "inputWidgets": {},
     "nuid": "4637d3bc-883c-468f-a8b3-cd5a28d671a1",
     "showTitle": false,
     "tableResultSettingsMap": {},
     "title": ""
    }
   },
   "outputs": [],
   "source": [
    "config = config()"
   ]
  },
  {
   "cell_type": "code",
   "execution_count": 0,
   "metadata": {
    "application/vnd.databricks.v1+cell": {
     "cellMetadata": {
      "byteLimit": 2048000,
      "rowLimit": 10000
     },
     "inputWidgets": {},
     "nuid": "da176b8f-ae6a-4b84-a3d1-dd1d48f21f81",
     "showTitle": false,
     "tableResultSettingsMap": {},
     "title": ""
    }
   },
   "outputs": [],
   "source": [
    "\n",
    "\n",
    "from datetime import date\n",
    "import requests\n",
    "from pyspark.sql import SparkSession\n",
    "\n",
    "# No need to import or initialize SparkSession in Databricks notebooks\n",
    "# from pyspark.sql import SparkSession\n",
    "\n",
    "# Use date.today() to get the current date in a format that Spark can handle\n",
    "current_date = date.today()\n",
    "\n",
    "# Initialize Spark session\n",
    "spark = SparkSession.builder.appName(\"NPI Data\").getOrCreate()\n",
    "\n",
    "# Base URL for the NPI Registry API\n",
    "base_url = \"https://npiregistry.cms.hhs.gov/api/\"\n",
    "\n",
    "# Defining the parameters for the initial API request to get a list of NPIs\n",
    "params = {\n",
    "    \"version\": \"2.1\",  # API version\n",
    "    \"state\": \"CA\",  # Example state, replace with desired state or other criteria\n",
    "    \"city\": \"Los Angeles\",  # Example city, replace with desired city\n",
    "    \"limit\": 20,  # Limit the number of results for demonstration purposes\n",
    "}\n",
    "\n",
    "# Make the initial API request to get a list of NPIs\n",
    "response = requests.get(base_url, params=params)\n",
    "\n",
    "# Check if the request was successful\n",
    "if response.status_code == 200:\n",
    "    npi_data = response.json()\n",
    "    npi_list = [result[\"number\"] for result in npi_data.get(\"results\", [])]\n",
    "\n",
    "    # Initialize a list to store detailed NPI information\n",
    "    detailed_results = []\n",
    "\n",
    "    # Loop through each NPI to get their details\n",
    "    for npi in npi_list:\n",
    "        detail_params = {\"version\": \"2.1\", \"number\": npi}\n",
    "        detail_response = requests.get(base_url, params=detail_params)\n",
    "\n",
    "        if detail_response.status_code == 200:\n",
    "            detail_data = detail_response.json()\n",
    "            if \"results\" in detail_data and detail_data[\"results\"]:\n",
    "                for result in detail_data[\"results\"]:\n",
    "                    npi_number = result.get(\"number\")\n",
    "                    basic_info = result.get(\"basic\", {})\n",
    "                    if result[\"enumeration_type\"] == \"NPI-1\":\n",
    "                        fname = basic_info.get(\"first_name\", \"\")\n",
    "                        lname = basic_info.get(\"last_name\", \"\")\n",
    "                    else:\n",
    "                        fname = basic_info.get(\"authorized_official_first_name\", \"\")\n",
    "                        lname = basic_info.get(\"authorized_official_last_name\", \"\")\n",
    "                    position = (\n",
    "                        basic_info.get(\"authorized_official_title_or_position\", \"\")\n",
    "                        if \"authorized_official_title_or_position\" in basic_info\n",
    "                        else \"\"\n",
    "                    )\n",
    "                    organisation = basic_info.get(\"organization_name\", \"\")\n",
    "                    last_updated = basic_info.get(\"last_updated\", \"\")\n",
    "                    detailed_results.append(\n",
    "                        {\n",
    "                            \"npi_id\": npi_number,\n",
    "                            \"first_name\": fname,\n",
    "                            \"last_name\": lname,\n",
    "                            \"position\": position,\n",
    "                            \"organisation_name\": organisation,\n",
    "                            \"last_updated\": last_updated,\n",
    "                            \"refreshed_at\": current_date,\n",
    "                        }\n",
    "                    )\n",
    "\n",
    "    # Create a DataFrame\n",
    "    if detailed_results:\n",
    "        print(detailed_results)\n",
    "        df = spark.createDataFrame(detailed_results)\n",
    "        display(df)\n",
    "        df.write.format(\"parquet\").mode(\"overwrite\").save(config.get_bronze_volume_dir()+\"/npi_extract/\")\n",
    "        df.write.format(\"delta\").mode(\"overwrite\").saveAsTable(\"bronze.npi_extract\")\n",
    "\n",
    "    else:\n",
    "        print(\"No detailed results found.\")\n",
    "else:\n",
    "    print(f\"Failed to fetch data: {response.status_code} - {response.text}\")\n",
    "     \n",
    "\n",
    "\n",
    "     "
   ]
  },
  {
   "cell_type": "code",
   "execution_count": 0,
   "metadata": {
    "application/vnd.databricks.v1+cell": {
     "cellMetadata": {
      "byteLimit": 2048000,
      "implicitDf": true,
      "rowLimit": 10000
     },
     "inputWidgets": {},
     "nuid": "48006b17-f66c-40e3-9996-818829967611",
     "showTitle": false,
     "tableResultSettingsMap": {},
     "title": ""
    }
   },
   "outputs": [],
   "source": [
    "%sql\n",
    "drop table bronze"
   ]
  },
  {
   "cell_type": "code",
   "execution_count": 0,
   "metadata": {
    "application/vnd.databricks.v1+cell": {
     "cellMetadata": {},
     "inputWidgets": {},
     "nuid": "8c093de9-d1c2-411c-91f5-080ec35d4bb6",
     "showTitle": false,
     "tableResultSettingsMap": {},
     "title": ""
    }
   },
   "outputs": [],
   "source": []
  }
 ],
 "metadata": {
  "application/vnd.databricks.v1+notebook": {
   "computePreferences": null,
   "dashboards": [],
   "environmentMetadata": {
    "base_environment": "",
    "environment_version": "2"
   },
   "language": "python",
   "notebookMetadata": {
    "mostRecentlyExecutedCommandWithImplicitDF": {
     "commandId": 3344760859385817,
     "dataframes": [
      "_sqldf"
     ]
    },
    "pythonIndentUnit": 4
   },
   "notebookName": "NPI (API To Bronze)",
   "widgets": {}
  },
  "language_info": {
   "name": "python"
  }
 },
 "nbformat": 4,
 "nbformat_minor": 0
}
